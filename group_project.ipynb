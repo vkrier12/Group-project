{
  "nbformat": 4,
  "nbformat_minor": 0,
  "metadata": {
    "colab": {
      "provenance": []
    },
    "kernelspec": {
      "name": "ir",
      "display_name": "R"
    },
    "language_info": {
      "name": "R"
    }
  },
  "cells": [
    {
      "cell_type": "code",
      "source": [
        "#Load libraries\n",
        "library(tidyverse)\n",
        "install.packages(\"quantmod\")\n",
        "install.packages(\"kableExtra\")\n",
        "library(quantmod)\n",
        "library(lubridate)\n",
        "library(scales)\n",
        "library(kableExtra)\n",
        "library(dplyr)"
      ],
      "metadata": {
        "id": "N_v5OzDUzDJg"
      },
      "execution_count": 111,
      "outputs": []
    },
    {
      "cell_type": "code",
      "source": [
        "# Load data using the QuantMod package to retrive historical data\n",
        "# The stock indexes are best loaded from yahoo finance\n",
        "\n",
        "getSymbols(c(\"^GSPC\"), src='yahoo', from = '1900-01-01', \n",
        "            to = Sys.Date(), warnings = TRUE)\n"
      ],
      "metadata": {
        "colab": {
          "base_uri": "https://localhost:8080/",
          "height": 34
        },
        "id": "wISkvTuQz187",
        "outputId": "7ca281bd-a5a2-4015-ed84-fe135c101e85"
      },
      "execution_count": 40,
      "outputs": [
        {
          "output_type": "display_data",
          "data": {
            "text/html": [
              "'^GSPC'"
            ],
            "text/markdown": "'^GSPC'",
            "text/latex": "'\\textasciicircum{}GSPC'",
            "text/plain": [
              "[1] \"^GSPC\""
            ]
          },
          "metadata": {}
        }
      ]
    },
    {
      "cell_type": "code",
      "source": [
        "#Convert Quantmod returns to dataframes w/ prices and aggregated yearly returns\n",
        "\n",
        "#S&p500 historical data\n",
        "SP500YearReturns <- data.frame(GSPC) %>%\n",
        "  #Convert row to dates\n",
        "  mutate(QuoteDate = as.Date(row.names(\"GSPC.Close\"), \"%Y-%m-%d\"),\n",
        "  #only want daily Close Value\n",
        "  CloseValue = GSPC.Close,\n",
        "  #Use lag funct to compare each day to last\n",
        "  mutate(Return = CloseValue / lag(CloseValue, n=1, order_by = QuoteDate) - 1) %>%\n",
        "  dplyr::select(QuoteDate, Return) %>%\n",
        "  filter(!is.na(Return))\n",
        "\n"
      ],
      "metadata": {
        "colab": {
          "base_uri": "https://localhost:8080/",
          "height": 148
        },
        "id": "xNC7RXC80Xna",
        "outputId": "3199ce4e-0b8e-4dd0-b60d-b322e854e9c6"
      },
      "execution_count": 117,
      "outputs": [
        {
          "output_type": "error",
          "ename": "ERROR",
          "evalue": "ignored",
          "traceback": [
            "Error in parse(text = x, srcfile = src): <text>:15:0: unexpected end of input\n13:   \n14: \n   ^\nTraceback:\n"
          ]
        }
      ]
    },
    {
      "cell_type": "code",
      "source": [
        "SP500YearReturns %>%\n",
        "  ggplot() +\n",
        "  geom_histogram(aes(Return), stat = \"bin\", bins = 20, \n",
        "                 fill = \"blue\", color = \"white\") +\n",
        "  geom_vline(aes(xintercept = median(Return)), colour=\"red\", linewidth = 2) +\n",
        "  scale_x_continuous(labels = percent_format()) +\n",
        "  theme_classic() +\n",
        "  geom_label(aes(median(Return), 0, label = percent(median(Return),\n",
        "                                                    accuracy = .1) )) +\n",
        "  labs(\n",
        "    title = paste0(\"Histogram : SP500 Returns Since \", year(min(SP500YearReturns$Year))), \n",
        "    subtitle = \"Annual Returns EOY to EOY - Median Return Highlighted\",\n",
        "    x = \"Return Rate\", \n",
        "    y = \"# Years\")"
      ],
      "metadata": {
        "colab": {
          "base_uri": "https://localhost:8080/",
          "height": 437
        },
        "id": "mcVMuRCk0-jz",
        "outputId": "ff174713-8b68-4ef7-c272-1b130280afb3"
      },
      "execution_count": 19,
      "outputs": [
        {
          "output_type": "display_data",
          "data": {
            "text/plain": [
              "plot without title"
            ],
            "image/png": "[encoded data removed]"
          },
          "metadata": {
            "image/png": {
              "width": 420,
              "height": 420
            }
          }
        }
      ]
    },
    {
      "cell_type": "code",
      "source": [
        "#import data from \n",
        "# https://www.nasdaq.com/market-activity/index/spx/historical\n",
        "#Data ranges from 11/25/2022 - 11-25/2021\n",
        "\n",
        "RawData = read.csv(\"/content/HistoricalData.csv\")\n",
        "head(RawData)\n",
        "\n",
        "df = "
      ],
      "metadata": {
        "colab": {
          "base_uri": "https://localhost:8080/",
          "height": 286
        },
        "id": "qCEQHL8bu2ar",
        "outputId": "f1912434-7edc-4487-e154-6fd53068fb1c"
      },
      "execution_count": 8,
      "outputs": [
        {
          "output_type": "display_data",
          "data": {
            "text/html": [
              "<table class=\"dataframe\">\n",
              "<caption>A data.frame: 6 × 6</caption>\n",
              "<thead>\n",
              "\t<tr><th></th><th scope=col>Date</th><th scope=col>Close.Last</th><th scope=col>Volume</th><th scope=col>Open</th><th scope=col>High</th><th scope=col>Low</th></tr>\n",
              "\t<tr><th></th><th scope=col>&lt;chr&gt;</th><th scope=col>&lt;dbl&gt;</th><th scope=col>&lt;chr&gt;</th><th scope=col>&lt;dbl&gt;</th><th scope=col>&lt;dbl&gt;</th><th scope=col>&lt;dbl&gt;</th></tr>\n",
              "</thead>\n",
              "<tbody>\n",
              "\t<tr><th scope=row>1</th><td>11/25/2022</td><td>4026.12</td><td>--</td><td>4023.34</td><td>4034.02</td><td>4020.76</td></tr>\n",
              "\t<tr><th scope=row>2</th><td>11/23/2022</td><td>4027.26</td><td>--</td><td>4000.30</td><td>4033.78</td><td>3998.66</td></tr>\n",
              "\t<tr><th scope=row>3</th><td>11/22/2022</td><td>4003.58</td><td>--</td><td>3965.51</td><td>4005.88</td><td>3956.88</td></tr>\n",
              "\t<tr><th scope=row>4</th><td>11/21/2022</td><td>3949.94</td><td>--</td><td>3956.23</td><td>3962.00</td><td>3933.34</td></tr>\n",
              "\t<tr><th scope=row>5</th><td>11/18/2022</td><td>3965.34</td><td>--</td><td>3966.39</td><td>3979.89</td><td>3935.98</td></tr>\n",
              "\t<tr><th scope=row>6</th><td>11/17/2022</td><td>3946.56</td><td>--</td><td>3919.26</td><td>3954.33</td><td>3906.54</td></tr>\n",
              "</tbody>\n",
              "</table>\n"
            ],
            "text/markdown": "\nA data.frame: 6 × 6\n\n| <!--/--> | Date &lt;chr&gt; | Close.Last &lt;dbl&gt; | Volume &lt;chr&gt; | Open &lt;dbl&gt; | High &lt;dbl&gt; | Low &lt;dbl&gt; |\n|---|---|---|---|---|---|---|\n| 1 | 11/25/2022 | 4026.12 | -- | 4023.34 | 4034.02 | 4020.76 |\n| 2 | 11/23/2022 | 4027.26 | -- | 4000.30 | 4033.78 | 3998.66 |\n| 3 | 11/22/2022 | 4003.58 | -- | 3965.51 | 4005.88 | 3956.88 |\n| 4 | 11/21/2022 | 3949.94 | -- | 3956.23 | 3962.00 | 3933.34 |\n| 5 | 11/18/2022 | 3965.34 | -- | 3966.39 | 3979.89 | 3935.98 |\n| 6 | 11/17/2022 | 3946.56 | -- | 3919.26 | 3954.33 | 3906.54 |\n\n",
            "text/latex": "A data.frame: 6 × 6\n\\begin{tabular}{r|llllll}\n  & Date & Close.Last & Volume & Open & High & Low\\\\\n  & <chr> & <dbl> & <chr> & <dbl> & <dbl> & <dbl>\\\\\n\\hline\n\t1 & 11/25/2022 & 4026.12 & -- & 4023.34 & 4034.02 & 4020.76\\\\\n\t2 & 11/23/2022 & 4027.26 & -- & 4000.30 & 4033.78 & 3998.66\\\\\n\t3 & 11/22/2022 & 4003.58 & -- & 3965.51 & 4005.88 & 3956.88\\\\\n\t4 & 11/21/2022 & 3949.94 & -- & 3956.23 & 3962.00 & 3933.34\\\\\n\t5 & 11/18/2022 & 3965.34 & -- & 3966.39 & 3979.89 & 3935.98\\\\\n\t6 & 11/17/2022 & 3946.56 & -- & 3919.26 & 3954.33 & 3906.54\\\\\n\\end{tabular}\n",
            "text/plain": [
              "  Date       Close.Last Volume Open    High    Low    \n",
              "1 11/25/2022 4026.12    --     4023.34 4034.02 4020.76\n",
              "2 11/23/2022 4027.26    --     4000.30 4033.78 3998.66\n",
              "3 11/22/2022 4003.58    --     3965.51 4005.88 3956.88\n",
              "4 11/21/2022 3949.94    --     3956.23 3962.00 3933.34\n",
              "5 11/18/2022 3965.34    --     3966.39 3979.89 3935.98\n",
              "6 11/17/2022 3946.56    --     3919.26 3954.33 3906.54"
            ]
          },
          "metadata": {}
        }
      ]
    },
    {
      "cell_type": "code",
      "execution_count": 1,
      "metadata": {
        "colab": {
          "base_uri": "https://localhost:8080/",
          "height": 34
        },
        "id": "Fy1Qsd2UnHK7",
        "outputId": "104f3fd7-0df8-42d4-ee58-2f03f84dddf3"
      },
      "outputs": [
        {
          "output_type": "display_data",
          "data": {
            "text/html": [
              "1333.41693461345"
            ],
            "text/markdown": "1333.41693461345",
            "text/latex": "1333.41693461345",
            "text/plain": [
              "[1] 1333.417"
            ]
          },
          "metadata": {}
        }
      ],
      "source": [
        "\n",
        "#Risk-Free Interest Rate\n",
        "#Might Change\n",
        "#52-Week T-Bill Rates https://ycharts.com/indicators/1_year_treasury_rate\n",
        "#Long-Term Average\n",
        "r=.02856\n",
        "\n",
        "#Dividend Yield\n",
        "#Might Change to Mutual Fund Rates or something else\n",
        "div=.0185\n",
        "\n",
        "#Volatility\n",
        "#If able find time frame and get calculations based on different Ts\n",
        "#https://www.barchart.com/stocks/quotes/$SPX/options?expiration=2022-11-18-w&view=stacked&moneyness=10\n",
        "vol=.2666\n",
        "\n",
        "#SPX Last 10 Years Low --> High\n",
        "#https://www.barchart.com/stocks/quotes/$SPX/interactive-chart\n",
        "#S0<- 1398:4818\n",
        "#S0 = c(1500,2000,2500,3000,3500,4000,4500,5000,5500\n",
        "S0=3500\n",
        "n1 = length(S0)\n",
        "  \n",
        "#Maturity Times Vector\n",
        "#t= c(1/12,2/12,3/12,4/12,5/12,6/12,7/12,8/12,9/12,10/12,11,12,1,2,3,4,5,6,7,8,9,10)\n",
        "t=.5\n",
        "n2 = length(t)\n",
        "\n",
        "#Strike Prices\n",
        "#Should the Strike Price Range Be Changed\n",
        "#K = 2000:7000\n",
        "#K = c(2000,3000,4000,5000,6000,7000)\n",
        "K=2000\n",
        "n3 = length(K)\n",
        "\n",
        "#D1Values = NULL\n",
        "#D Values\n",
        "#for (i in 1:n1)\n",
        "#{\n",
        " # for (j in 1:n2)\n",
        " # {\n",
        "   # for(w in 1:n3)\n",
        "     # d1 = ((log(S0[i]/K[w]) + (r-div+(vol^2/2))*t[j])/(vol * sqrt(t[j])))\n",
        "  \n",
        "   # D1values = c(d1)\n",
        "#  }\n",
        "#}\n",
        "#D1Values[1:10]\n",
        "d1= ((log(S0/K)+ (r-div+(vol^2/2))*t)/(vol * sqrt(t)))\n",
        "d2= (d1 - vol*sqrt(t))\n",
        "\n",
        "#Theoretical Delta \"Derivative of BScall in terms of S\"\n",
        "delta=(exp(-div*t)*pnorm(d1))\n",
        "#Theoretical Call \n",
        "BScall= (S0*exp(-div*t)*pnorm(d1))-(K*exp(-r*t)*pnorm(d2))\n",
        "\n",
        "\n",
        "#------------------------------------------------------------------\n",
        "#Monte-Carlo Estimation\n",
        "\n",
        "#Algorithm 1\n",
        "#Generate a vector of 5000 normally distributed random numbers\n",
        "Zi=rnorm(5000)\n",
        "#5.1.16 5-14\n",
        "#Check if I am implementing the Z tilde right\n",
        "for(i in 1:5000)\n",
        "{\n",
        "  St = (S0 * (exp((r-div-((vol^2)/2))*t) + (vol * sqrt(t) *Zi)))\n",
        "}\n",
        "#St = (S0 * (exp((r-div-((vol^2)/2))*t) + (vol * sqrt(t) *Zi)))\n",
        "#Eat something and fix this loop\n",
        "#-----------------------------------------------------------\n",
        "for (i in 1:5000)\n",
        "{\n",
        "  calltermnialpayoff = max((St[i]-K),0)\n",
        "}\n",
        "#calltermnialpayoff = max((St-K),0)\n",
        "callpayoff = exp(-r*t) * calltermnialpayoff\n",
        "calltermnialpayoff\n",
        "#---------------------------------------------------------------------\n",
        "\n",
        "#Do T-t\n",
        "Nd1prime = exp(-d1^2/2)*(1/sqrt(2*pi))\n",
        "Nd2prime = exp(-d2^2/2)*(1/sqrt(2*pi))\n",
        "\n",
        "Gamma = exp(-div)\n",
        "\n",
        "\n",
        "\n",
        "\n",
        "\n",
        "\n",
        "\n",
        "\n",
        "\n",
        "\n",
        "\n",
        "\n",
        "\n",
        "\n",
        "#READ THIS\n",
        "#OK so I am interpreting things in two ways and there should only be one and both might be wrong but \n",
        "#Component 2 in the slides is \"Specify how you use the emperical expectations to find the price and delta.\n",
        "#\"Hint what is E*[S(T)I(S(T)>K)] and what is its relationship with Delta\n",
        "#This looks to be a partial expectation for price of a regular call  but this is also similar to the Asset or Nothing Call payoof and then price I might be fixating so if someone can explain away my confusion\n",
        "#I am going to code out as if it isnt the Asset or nothing Call using content from 5.1 M5-17\n",
        "\n",
        "\n",
        "\n",
        "\n",
        "#-------------------------------------------------------------\n",
        "#payoff=NULL\n",
        "#for(i in 1: 5000)\n",
        "#{\n",
        "#  payoff=c(payoff, ifelse(St[i]>k,St[i]-K,0))\n",
        "#  }\n",
        "#clapply\n",
        "\n",
        "#price=mean(payoff)\n",
        "#-------------------------------------------------------------\n",
        "\n",
        "\n",
        "\n",
        "\n",
        "\n",
        "\n",
        "\n",
        "\n"
      ]
    }
  ]
}